{
 "cells": [
  {
   "cell_type": "code",
   "execution_count": 1,
   "metadata": {},
   "outputs": [],
   "source": [
    "import pandas as pd"
   ]
  },
  {
   "cell_type": "code",
   "execution_count": 2,
   "metadata": {},
   "outputs": [
    {
     "data": {
      "text/html": [
       "<div>\n",
       "<style scoped>\n",
       "    .dataframe tbody tr th:only-of-type {\n",
       "        vertical-align: middle;\n",
       "    }\n",
       "\n",
       "    .dataframe tbody tr th {\n",
       "        vertical-align: top;\n",
       "    }\n",
       "\n",
       "    .dataframe thead th {\n",
       "        text-align: right;\n",
       "    }\n",
       "</style>\n",
       "<table border=\"1\" class=\"dataframe\">\n",
       "  <thead>\n",
       "    <tr style=\"text-align: right;\">\n",
       "      <th></th>\n",
       "      <th>offense_name</th>\n",
       "      <th>total_male</th>\n",
       "      <th>total_female</th>\n",
       "    </tr>\n",
       "  </thead>\n",
       "  <tbody>\n",
       "    <tr>\n",
       "      <td>0</td>\n",
       "      <td>Arson</td>\n",
       "      <td>1760</td>\n",
       "      <td>328</td>\n",
       "    </tr>\n",
       "    <tr>\n",
       "      <td>1</td>\n",
       "      <td>Aggravated Assault</td>\n",
       "      <td>16997</td>\n",
       "      <td>5918</td>\n",
       "    </tr>\n",
       "    <tr>\n",
       "      <td>2</td>\n",
       "      <td>Simple Assault</td>\n",
       "      <td>66360</td>\n",
       "      <td>38712</td>\n",
       "    </tr>\n",
       "    <tr>\n",
       "      <td>3</td>\n",
       "      <td>Burglary</td>\n",
       "      <td>23307</td>\n",
       "      <td>3071</td>\n",
       "    </tr>\n",
       "    <tr>\n",
       "      <td>4</td>\n",
       "      <td>Curfew and Loitering Law Violations</td>\n",
       "      <td>19218</td>\n",
       "      <td>8319</td>\n",
       "    </tr>\n",
       "    <tr>\n",
       "      <td>5</td>\n",
       "      <td>Disorderly Conduct</td>\n",
       "      <td>34438</td>\n",
       "      <td>19449</td>\n",
       "    </tr>\n",
       "    <tr>\n",
       "      <td>6</td>\n",
       "      <td>Drug Abuse Violations</td>\n",
       "      <td>61781</td>\n",
       "      <td>18503</td>\n",
       "    </tr>\n",
       "    <tr>\n",
       "      <td>7</td>\n",
       "      <td>Drunkenness</td>\n",
       "      <td>2746</td>\n",
       "      <td>1120</td>\n",
       "    </tr>\n",
       "    <tr>\n",
       "      <td>8</td>\n",
       "      <td>Drive Under the Influence</td>\n",
       "      <td>3913</td>\n",
       "      <td>1345</td>\n",
       "    </tr>\n",
       "    <tr>\n",
       "      <td>9</td>\n",
       "      <td>Embezzlement</td>\n",
       "      <td>343</td>\n",
       "      <td>207</td>\n",
       "    </tr>\n",
       "    <tr>\n",
       "      <td>10</td>\n",
       "      <td>Offenses Against the Family and Children</td>\n",
       "      <td>1749</td>\n",
       "      <td>1126</td>\n",
       "    </tr>\n",
       "    <tr>\n",
       "      <td>11</td>\n",
       "      <td>Forgery and Counterfeiting</td>\n",
       "      <td>735</td>\n",
       "      <td>252</td>\n",
       "    </tr>\n",
       "    <tr>\n",
       "      <td>12</td>\n",
       "      <td>Fraud</td>\n",
       "      <td>2611</td>\n",
       "      <td>1212</td>\n",
       "    </tr>\n",
       "    <tr>\n",
       "      <td>13</td>\n",
       "      <td>Gambling</td>\n",
       "      <td>181</td>\n",
       "      <td>26</td>\n",
       "    </tr>\n",
       "    <tr>\n",
       "      <td>14</td>\n",
       "      <td>Murder and Nonnegligent Homicide</td>\n",
       "      <td>639</td>\n",
       "      <td>66</td>\n",
       "    </tr>\n",
       "    <tr>\n",
       "      <td>15</td>\n",
       "      <td>Liquor Laws</td>\n",
       "      <td>18045</td>\n",
       "      <td>12005</td>\n",
       "    </tr>\n",
       "    <tr>\n",
       "      <td>16</td>\n",
       "      <td>Larceny</td>\n",
       "      <td>66057</td>\n",
       "      <td>45464</td>\n",
       "    </tr>\n",
       "    <tr>\n",
       "      <td>17</td>\n",
       "      <td>Manslaughter by Negligence</td>\n",
       "      <td>54</td>\n",
       "      <td>13</td>\n",
       "    </tr>\n",
       "    <tr>\n",
       "      <td>18</td>\n",
       "      <td>Motor Vehicle Theft</td>\n",
       "      <td>10433</td>\n",
       "      <td>2370</td>\n",
       "    </tr>\n",
       "    <tr>\n",
       "      <td>19</td>\n",
       "      <td>All Other Offenses</td>\n",
       "      <td>91740</td>\n",
       "      <td>36166</td>\n",
       "    </tr>\n",
       "    <tr>\n",
       "      <td>20</td>\n",
       "      <td>Prostitution and Commercialized Vice</td>\n",
       "      <td>112</td>\n",
       "      <td>297</td>\n",
       "    </tr>\n",
       "    <tr>\n",
       "      <td>21</td>\n",
       "      <td>Robbery</td>\n",
       "      <td>13989</td>\n",
       "      <td>1656</td>\n",
       "    </tr>\n",
       "    <tr>\n",
       "      <td>22</td>\n",
       "      <td>Rape</td>\n",
       "      <td>2899</td>\n",
       "      <td>128</td>\n",
       "    </tr>\n",
       "    <tr>\n",
       "      <td>23</td>\n",
       "      <td>Runaway</td>\n",
       "      <td>19135</td>\n",
       "      <td>20941</td>\n",
       "    </tr>\n",
       "    <tr>\n",
       "      <td>24</td>\n",
       "      <td>Sex Offenses</td>\n",
       "      <td>6041</td>\n",
       "      <td>850</td>\n",
       "    </tr>\n",
       "    <tr>\n",
       "      <td>25</td>\n",
       "      <td>Stolen Property</td>\n",
       "      <td>7573</td>\n",
       "      <td>1436</td>\n",
       "    </tr>\n",
       "    <tr>\n",
       "      <td>26</td>\n",
       "      <td>Suspicion</td>\n",
       "      <td>82</td>\n",
       "      <td>20</td>\n",
       "    </tr>\n",
       "    <tr>\n",
       "      <td>27</td>\n",
       "      <td>Vagrancy</td>\n",
       "      <td>482</td>\n",
       "      <td>163</td>\n",
       "    </tr>\n",
       "    <tr>\n",
       "      <td>28</td>\n",
       "      <td>Vandalism</td>\n",
       "      <td>26595</td>\n",
       "      <td>5484</td>\n",
       "    </tr>\n",
       "    <tr>\n",
       "      <td>29</td>\n",
       "      <td>Weapons</td>\n",
       "      <td>14084</td>\n",
       "      <td>1737</td>\n",
       "    </tr>\n",
       "  </tbody>\n",
       "</table>\n",
       "</div>"
      ],
      "text/plain": [
       "                                offense_name  total_male  total_female\n",
       "0                                      Arson        1760           328\n",
       "1                         Aggravated Assault       16997          5918\n",
       "2                             Simple Assault       66360         38712\n",
       "3                                   Burglary       23307          3071\n",
       "4        Curfew and Loitering Law Violations       19218          8319\n",
       "5                         Disorderly Conduct       34438         19449\n",
       "6                      Drug Abuse Violations       61781         18503\n",
       "7                                Drunkenness        2746          1120\n",
       "8                  Drive Under the Influence        3913          1345\n",
       "9                               Embezzlement         343           207\n",
       "10  Offenses Against the Family and Children        1749          1126\n",
       "11                Forgery and Counterfeiting         735           252\n",
       "12                                     Fraud        2611          1212\n",
       "13                                  Gambling         181            26\n",
       "14          Murder and Nonnegligent Homicide         639            66\n",
       "15                               Liquor Laws       18045         12005\n",
       "16                                   Larceny       66057         45464\n",
       "17                Manslaughter by Negligence          54            13\n",
       "18                       Motor Vehicle Theft       10433          2370\n",
       "19                        All Other Offenses       91740         36166\n",
       "20      Prostitution and Commercialized Vice         112           297\n",
       "21                                   Robbery       13989          1656\n",
       "22                                      Rape        2899           128\n",
       "23                                   Runaway       19135         20941\n",
       "24                              Sex Offenses        6041           850\n",
       "25                           Stolen Property        7573          1436\n",
       "26                                 Suspicion          82            20\n",
       "27                                  Vagrancy         482           163\n",
       "28                                 Vandalism       26595          5484\n",
       "29                                   Weapons       14084          1737"
      ]
     },
     "execution_count": 2,
     "metadata": {},
     "output_type": "execute_result"
    }
   ],
   "source": [
    "df = pd.read_csv('arrests_national_juvenile.csv')\n",
    "data = df[df['year'] == 2016][['offense_name', 'total_male', 'total_female']]\n",
    "data"
   ]
  },
  {
   "cell_type": "code",
   "execution_count": 3,
   "metadata": {},
   "outputs": [],
   "source": [
    "def chi_square(data):\n",
    "    result = []\n",
    "    statistics = 0\n",
    "    columns = data.columns.tolist()\n",
    "    b_0 = data[columns[1]].sum()\n",
    "    b_1 = data[columns[2]].sum()\n",
    "    total = b_0 + b_1\n",
    "    \n",
    "    for _, row in data.iterrows():\n",
    "        total_row = row[columns[1]] + row[columns[2]]\n",
    "        a = (total_row * b_0) / total\n",
    "        b = (total_row * b_1) / total\n",
    "        result.append([a, b])\n",
    "        statistics += ((row[columns[1]] - a) ** 2) / a\n",
    "        statistics += ((row[columns[2]] - b) ** 2) / b\n",
    "        \n",
    "    return statistics, pd.DataFrame(result)\n",
    "    \n",
    "def Pearson(x, n):\n",
    "    return (x / (x + n)) ** 0.5\n",
    "\n",
    "def Cramer(x, n, m, k):\n",
    "    return (x / (n * min((m - 1), (k - 1)))) ** 0.5"
   ]
  },
  {
   "cell_type": "code",
   "execution_count": 4,
   "metadata": {
    "scrolled": true
   },
   "outputs": [
    {
     "data": {
      "text/plain": [
       "38672.962759139686"
      ]
     },
     "execution_count": 4,
     "metadata": {},
     "output_type": "execute_result"
    }
   ],
   "source": [
    "chi = chi_square(data)\n",
    "\n",
    "chi[0]"
   ]
  },
  {
   "cell_type": "markdown",
   "metadata": {},
   "source": [
    "- Для степени свободы X0.95;29 критическая область имеет вид: (42.6; ∞) - значение статистики попадает в критическую область, гипотеза о независимости признаков отвергается на уровне значимости 0.05"
   ]
  },
  {
   "cell_type": "code",
   "execution_count": 5,
   "metadata": {},
   "outputs": [
    {
     "data": {
      "text/plain": [
       "(742483, 0.22250247507871126, 0.2282235545906968)"
      ]
     },
     "execution_count": 5,
     "metadata": {},
     "output_type": "execute_result"
    }
   ],
   "source": [
    "n = sum(data.sum().values.tolist()[1:])\n",
    "p = Pearson(chi[0], n)\n",
    "c = Cramer(chi[0], n, 2, 30)\n",
    "\n",
    "n, p, c"
   ]
  },
  {
   "cell_type": "markdown",
   "metadata": {},
   "source": [
    "- Значения коэффициентов Пирсона и Крамера близки к нулю, что говорит о достаточно слабой силе выявленной связи."
   ]
  },
  {
   "cell_type": "code",
   "execution_count": 6,
   "metadata": {},
   "outputs": [
    {
     "data": {
      "text/plain": [
       "(104.5168431131478, 25003, 0.0645195397119742, 0.06465425047027804)"
      ]
     },
     "execution_count": 6,
     "metadata": {},
     "output_type": "execute_result"
    }
   ],
   "source": [
    "# Расчет статистики для первых 2 категорий преступлений\n",
    "\n",
    "chi = chi_square(data[:2])\n",
    "n = sum(data[:2].sum().values.tolist()[1:])\n",
    "p = Pearson(chi[0], n)\n",
    "c = Cramer(chi[0], n, 2, 2)\n",
    "chi[0], n, p, c"
   ]
  },
  {
   "cell_type": "markdown",
   "metadata": {},
   "source": [
    "- Для степени свободы X0.95;1 критическая область имеет вид: (3.84; ∞) - значение статистики попадает в критическую область, гипотеза о независимости признаков отвергается на уровне значимости 0.05\n",
    "- Значения коэффициентов Пирсона и Крамера близки к нулю, что говорит о достаточно слабой силе выявленной связи."
   ]
  },
  {
   "cell_type": "code",
   "execution_count": 7,
   "metadata": {},
   "outputs": [
    {
     "data": {
      "text/plain": [
       "(10190.716521622586, 336432, 0.1714643548148431, 0.17404185830036273)"
      ]
     },
     "execution_count": 7,
     "metadata": {},
     "output_type": "execute_result"
    }
   ],
   "source": [
    "# Расчет статистики для первых 15 категорий преступлений\n",
    "\n",
    "chi = chi_square(data[:15])\n",
    "n = sum(data[:15].sum().values.tolist()[1:])\n",
    "p = Pearson(chi[0], n)\n",
    "c = Cramer(chi[0], n, 2, 15)\n",
    "chi[0], n, p, c"
   ]
  },
  {
   "cell_type": "markdown",
   "metadata": {},
   "source": [
    "- Для степени свободы X0.95;14 критическая область имеет вид: (23,7; ∞) - значение статистики попадает в критическую область, гипотеза о независимости признаков отвергается на уровне значимости 0.05\n",
    "- Значения коэффициентов Пирсона и Крамера близки к нулю, что говорит о достаточно слабой силе выявленной связи."
   ]
  },
  {
   "cell_type": "code",
   "execution_count": 8,
   "metadata": {},
   "outputs": [],
   "source": [
    "def goodman_kraskel(data=data):\n",
    "    total_male = sum(data['total_male']) \n",
    "    total_female = sum(data['total_female'])\n",
    "    data['total'] = data['total_male'] + data['total_female']\n",
    "    total =  total_male + total_female\n",
    "    sum_nj_b = total_male ** 2 / total + total_female ** 2 / total\n",
    "    p1_b = 1 - (sum_nj_b / total)\n",
    "    sum_nij_b = 0\n",
    "    for _, row in data.iterrows():\n",
    "        ni = row['total_male'] + row['total_female']\n",
    "        sum_nij_b += row['total_male'] ** 2 / ni \n",
    "        sum_nij_b += row['total_female'] ** 2 / ni\n",
    "    p2_b = 1 - (sum_nij_b / total)\n",
    "    p1_b = round(p1_b, 3)\n",
    "    p2_b = round(p2_b, 3)\n",
    "    tb = (p1_b - p2_b) / p1_b\n",
    "    print(f'p1_b = {round(p1_b, 3)}, p2_b = {round(p2_b, 3)}, tb = {round(tb, 3)}')\n",
    "    \n",
    "    p1_a = 1 - sum([(i ** 2) / total for i in data['total']]) / total\n",
    "    sum_nij_a = sum([j ** 2 / total_male for j in data['total_male']])\n",
    "    sum_nij_a += sum([j ** 2 / total_female for j in data['total_female']])\n",
    "    p2_a = 1 - (sum_nij_a / total)\n",
    "    p1_a = round(p1_a, 3)\n",
    "    p2_a = round(p2_a, 3)\n",
    "    ta = (p1_a - p2_a) / p1_a\n",
    "    print(f'p1_a = {p1_a}, p2_a = {p2_a}, ta = {round(ta, 3)}')"
   ]
  },
  {
   "cell_type": "code",
   "execution_count": 9,
   "metadata": {},
   "outputs": [
    {
     "name": "stdout",
     "output_type": "stream",
     "text": [
      "p1_b = 0.426, p2_b = 0.404, tb = 0.052\n",
      "p1_a = 0.899, p2_a = 0.896, ta = 0.003\n"
     ]
    }
   ],
   "source": [
    "goodman_kraskel()"
   ]
  },
  {
   "cell_type": "markdown",
   "metadata": {},
   "source": [
    "- Построенные оценки позволяют сказать, что прогноз модальной категории признака B (категория преступления) улучшится на 5,2%, если при прогнозировании будет учтено значение признака A (пол преступника), а прогноз модальной категории признака A улучшится на 0,3%, если при прогнозировании будет учтено значение признака B.\n",
    "- Таким образом, значение статистики Хи-квадрат (X2 = 38672.96, критическая область: (χ2_0,95(29); +∞) = (42,6; +∞)) указывает на наличие зависимости между категорией совершаемого преступления и полом преступника. Значения коэффициентов взаимной сопряженности Пирсона (P = 0.22) и Крамера (C = 0.23) указывают на слабую силу связи между признаками. Значения мер прогноза Гудмана и Гудмана-Краскела указывают, что прогноз категории преступления улучшится при учете пола преступника ((λ_B ) ̂=0.008, τ ̂_B= 0.052), а прогноз категории пола преступника улучшится при учете категории преступления ((λ_A ) ̂=0.021, τ ̂_A= 0.003)."
   ]
  }
 ],
 "metadata": {
  "kernelspec": {
   "display_name": "Python 3",
   "language": "python",
   "name": "python3"
  },
  "language_info": {
   "codemirror_mode": {
    "name": "ipython",
    "version": 3
   },
   "file_extension": ".py",
   "mimetype": "text/x-python",
   "name": "python",
   "nbconvert_exporter": "python",
   "pygments_lexer": "ipython3",
   "version": "3.7.4"
  }
 },
 "nbformat": 4,
 "nbformat_minor": 2
}
