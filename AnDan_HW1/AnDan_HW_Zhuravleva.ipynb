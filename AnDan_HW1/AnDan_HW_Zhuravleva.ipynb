{
 "cells": [
  {
   "cell_type": "code",
   "execution_count": 1,
   "metadata": {},
   "outputs": [],
   "source": [
    "import pandas as pd\n",
    "import numpy as np\n",
    "import math"
   ]
  },
  {
   "cell_type": "code",
   "execution_count": 2,
   "metadata": {},
   "outputs": [],
   "source": [
    "data = pd.read_csv('Islander_data.csv')"
   ]
  },
  {
   "cell_type": "code",
   "execution_count": 3,
   "metadata": {},
   "outputs": [],
   "source": [
    "happy = data[data['Happy_Sad_group'] == 'H']"
   ]
  },
  {
   "cell_type": "code",
   "execution_count": 4,
   "metadata": {},
   "outputs": [
    {
     "data": {
      "text/html": [
       "<div>\n",
       "<style scoped>\n",
       "    .dataframe tbody tr th:only-of-type {\n",
       "        vertical-align: middle;\n",
       "    }\n",
       "\n",
       "    .dataframe tbody tr th {\n",
       "        vertical-align: top;\n",
       "    }\n",
       "\n",
       "    .dataframe thead th {\n",
       "        text-align: right;\n",
       "    }\n",
       "</style>\n",
       "<table border=\"1\" class=\"dataframe\">\n",
       "  <thead>\n",
       "    <tr style=\"text-align: right;\">\n",
       "      <th></th>\n",
       "      <th>first_name</th>\n",
       "      <th>last_name</th>\n",
       "      <th>age</th>\n",
       "      <th>Happy_Sad_group</th>\n",
       "      <th>Dosage</th>\n",
       "      <th>Drug</th>\n",
       "      <th>Mem_Score_Before</th>\n",
       "      <th>Mem_Score_After</th>\n",
       "      <th>Diff</th>\n",
       "    </tr>\n",
       "  </thead>\n",
       "  <tbody>\n",
       "    <tr>\n",
       "      <td>23</td>\n",
       "      <td>Anna</td>\n",
       "      <td>Bernard</td>\n",
       "      <td>62</td>\n",
       "      <td>H</td>\n",
       "      <td>2</td>\n",
       "      <td>A</td>\n",
       "      <td>46.5</td>\n",
       "      <td>46.1</td>\n",
       "      <td>-0.4</td>\n",
       "    </tr>\n",
       "    <tr>\n",
       "      <td>25</td>\n",
       "      <td>Dean</td>\n",
       "      <td>Carrasco</td>\n",
       "      <td>40</td>\n",
       "      <td>H</td>\n",
       "      <td>2</td>\n",
       "      <td>A</td>\n",
       "      <td>47.0</td>\n",
       "      <td>55.5</td>\n",
       "      <td>8.5</td>\n",
       "    </tr>\n",
       "    <tr>\n",
       "      <td>28</td>\n",
       "      <td>Sofia</td>\n",
       "      <td>Carrasco</td>\n",
       "      <td>28</td>\n",
       "      <td>H</td>\n",
       "      <td>2</td>\n",
       "      <td>A</td>\n",
       "      <td>43.9</td>\n",
       "      <td>46.8</td>\n",
       "      <td>2.9</td>\n",
       "    </tr>\n",
       "    <tr>\n",
       "      <td>29</td>\n",
       "      <td>Darren</td>\n",
       "      <td>Durand</td>\n",
       "      <td>36</td>\n",
       "      <td>H</td>\n",
       "      <td>2</td>\n",
       "      <td>A</td>\n",
       "      <td>74.9</td>\n",
       "      <td>70.8</td>\n",
       "      <td>-4.1</td>\n",
       "    </tr>\n",
       "    <tr>\n",
       "      <td>31</td>\n",
       "      <td>Misaki</td>\n",
       "      <td>Durand</td>\n",
       "      <td>29</td>\n",
       "      <td>H</td>\n",
       "      <td>2</td>\n",
       "      <td>A</td>\n",
       "      <td>58.9</td>\n",
       "      <td>56.3</td>\n",
       "      <td>-2.6</td>\n",
       "    </tr>\n",
       "    <tr>\n",
       "      <td>33</td>\n",
       "      <td>Robert</td>\n",
       "      <td>Durand</td>\n",
       "      <td>35</td>\n",
       "      <td>H</td>\n",
       "      <td>2</td>\n",
       "      <td>A</td>\n",
       "      <td>58.8</td>\n",
       "      <td>50.8</td>\n",
       "      <td>-8.0</td>\n",
       "    </tr>\n",
       "    <tr>\n",
       "      <td>35</td>\n",
       "      <td>Ayano</td>\n",
       "      <td>Kennedy</td>\n",
       "      <td>38</td>\n",
       "      <td>H</td>\n",
       "      <td>2</td>\n",
       "      <td>A</td>\n",
       "      <td>40.2</td>\n",
       "      <td>44.5</td>\n",
       "      <td>4.3</td>\n",
       "    </tr>\n",
       "    <tr>\n",
       "      <td>37</td>\n",
       "      <td>Jose</td>\n",
       "      <td>Lopez</td>\n",
       "      <td>25</td>\n",
       "      <td>H</td>\n",
       "      <td>2</td>\n",
       "      <td>A</td>\n",
       "      <td>50.0</td>\n",
       "      <td>49.4</td>\n",
       "      <td>-0.6</td>\n",
       "    </tr>\n",
       "    <tr>\n",
       "      <td>40</td>\n",
       "      <td>Anthony</td>\n",
       "      <td>Steiner</td>\n",
       "      <td>26</td>\n",
       "      <td>H</td>\n",
       "      <td>2</td>\n",
       "      <td>A</td>\n",
       "      <td>87.0</td>\n",
       "      <td>102.0</td>\n",
       "      <td>15.0</td>\n",
       "    </tr>\n",
       "    <tr>\n",
       "      <td>41</td>\n",
       "      <td>Nina</td>\n",
       "      <td>Steiner</td>\n",
       "      <td>51</td>\n",
       "      <td>H</td>\n",
       "      <td>2</td>\n",
       "      <td>A</td>\n",
       "      <td>46.5</td>\n",
       "      <td>50.8</td>\n",
       "      <td>4.3</td>\n",
       "    </tr>\n",
       "    <tr>\n",
       "      <td>44</td>\n",
       "      <td>Felipe</td>\n",
       "      <td>Takahashi</td>\n",
       "      <td>28</td>\n",
       "      <td>H</td>\n",
       "      <td>2</td>\n",
       "      <td>A</td>\n",
       "      <td>60.9</td>\n",
       "      <td>64.9</td>\n",
       "      <td>4.0</td>\n",
       "    </tr>\n",
       "  </tbody>\n",
       "</table>\n",
       "</div>"
      ],
      "text/plain": [
       "   first_name  last_name  age Happy_Sad_group  Dosage Drug  Mem_Score_Before  \\\n",
       "23       Anna    Bernard   62               H       2    A              46.5   \n",
       "25       Dean   Carrasco   40               H       2    A              47.0   \n",
       "28      Sofia   Carrasco   28               H       2    A              43.9   \n",
       "29     Darren     Durand   36               H       2    A              74.9   \n",
       "31     Misaki     Durand   29               H       2    A              58.9   \n",
       "33     Robert     Durand   35               H       2    A              58.8   \n",
       "35      Ayano    Kennedy   38               H       2    A              40.2   \n",
       "37       Jose      Lopez   25               H       2    A              50.0   \n",
       "40    Anthony    Steiner   26               H       2    A              87.0   \n",
       "41       Nina    Steiner   51               H       2    A              46.5   \n",
       "44     Felipe  Takahashi   28               H       2    A              60.9   \n",
       "\n",
       "    Mem_Score_After  Diff  \n",
       "23             46.1  -0.4  \n",
       "25             55.5   8.5  \n",
       "28             46.8   2.9  \n",
       "29             70.8  -4.1  \n",
       "31             56.3  -2.6  \n",
       "33             50.8  -8.0  \n",
       "35             44.5   4.3  \n",
       "37             49.4  -0.6  \n",
       "40            102.0  15.0  \n",
       "41             50.8   4.3  \n",
       "44             64.9   4.0  "
      ]
     },
     "execution_count": 4,
     "metadata": {},
     "output_type": "execute_result"
    }
   ],
   "source": [
    "happy_drug_a = happy[happy['Drug'] == 'A']\n",
    "happy_drug_a_dosage_2 = happy_drug_a[happy_drug_a['Dosage'] == 2]\n",
    "happy_drug_a_dosage_2"
   ]
  },
  {
   "cell_type": "code",
   "execution_count": 5,
   "metadata": {},
   "outputs": [
    {
     "data": {
      "text/html": [
       "<div>\n",
       "<style scoped>\n",
       "    .dataframe tbody tr th:only-of-type {\n",
       "        vertical-align: middle;\n",
       "    }\n",
       "\n",
       "    .dataframe tbody tr th {\n",
       "        vertical-align: top;\n",
       "    }\n",
       "\n",
       "    .dataframe thead th {\n",
       "        text-align: right;\n",
       "    }\n",
       "</style>\n",
       "<table border=\"1\" class=\"dataframe\">\n",
       "  <thead>\n",
       "    <tr style=\"text-align: right;\">\n",
       "      <th></th>\n",
       "      <th>first_name</th>\n",
       "      <th>last_name</th>\n",
       "      <th>age</th>\n",
       "      <th>Happy_Sad_group</th>\n",
       "      <th>Dosage</th>\n",
       "      <th>Drug</th>\n",
       "      <th>Mem_Score_Before</th>\n",
       "      <th>Mem_Score_After</th>\n",
       "      <th>Diff</th>\n",
       "    </tr>\n",
       "  </thead>\n",
       "  <tbody>\n",
       "    <tr>\n",
       "      <td>89</td>\n",
       "      <td>Christian</td>\n",
       "      <td>Carrasco</td>\n",
       "      <td>28</td>\n",
       "      <td>H</td>\n",
       "      <td>2</td>\n",
       "      <td>S</td>\n",
       "      <td>36.0</td>\n",
       "      <td>35.8</td>\n",
       "      <td>-0.2</td>\n",
       "    </tr>\n",
       "    <tr>\n",
       "      <td>90</td>\n",
       "      <td>Ignacio</td>\n",
       "      <td>Carrasco</td>\n",
       "      <td>46</td>\n",
       "      <td>H</td>\n",
       "      <td>2</td>\n",
       "      <td>S</td>\n",
       "      <td>54.8</td>\n",
       "      <td>65.4</td>\n",
       "      <td>10.6</td>\n",
       "    </tr>\n",
       "    <tr>\n",
       "      <td>93</td>\n",
       "      <td>Sara</td>\n",
       "      <td>Castro</td>\n",
       "      <td>35</td>\n",
       "      <td>H</td>\n",
       "      <td>2</td>\n",
       "      <td>S</td>\n",
       "      <td>46.0</td>\n",
       "      <td>43.2</td>\n",
       "      <td>-2.8</td>\n",
       "    </tr>\n",
       "    <tr>\n",
       "      <td>94</td>\n",
       "      <td>Benjamin</td>\n",
       "      <td>Connolly</td>\n",
       "      <td>27</td>\n",
       "      <td>H</td>\n",
       "      <td>2</td>\n",
       "      <td>S</td>\n",
       "      <td>67.0</td>\n",
       "      <td>70.9</td>\n",
       "      <td>3.9</td>\n",
       "    </tr>\n",
       "    <tr>\n",
       "      <td>98</td>\n",
       "      <td>Rin</td>\n",
       "      <td>Durand</td>\n",
       "      <td>40</td>\n",
       "      <td>H</td>\n",
       "      <td>2</td>\n",
       "      <td>S</td>\n",
       "      <td>30.7</td>\n",
       "      <td>27.1</td>\n",
       "      <td>-3.6</td>\n",
       "    </tr>\n",
       "    <tr>\n",
       "      <td>99</td>\n",
       "      <td>Rok</td>\n",
       "      <td>Hajek</td>\n",
       "      <td>48</td>\n",
       "      <td>H</td>\n",
       "      <td>2</td>\n",
       "      <td>S</td>\n",
       "      <td>48.3</td>\n",
       "      <td>47.0</td>\n",
       "      <td>-1.3</td>\n",
       "    </tr>\n",
       "    <tr>\n",
       "      <td>102</td>\n",
       "      <td>Bastian</td>\n",
       "      <td>Lopez</td>\n",
       "      <td>42</td>\n",
       "      <td>H</td>\n",
       "      <td>2</td>\n",
       "      <td>S</td>\n",
       "      <td>46.2</td>\n",
       "      <td>41.3</td>\n",
       "      <td>-4.9</td>\n",
       "    </tr>\n",
       "    <tr>\n",
       "      <td>103</td>\n",
       "      <td>Kaito</td>\n",
       "      <td>Lopez</td>\n",
       "      <td>37</td>\n",
       "      <td>H</td>\n",
       "      <td>2</td>\n",
       "      <td>S</td>\n",
       "      <td>41.0</td>\n",
       "      <td>47.0</td>\n",
       "      <td>6.0</td>\n",
       "    </tr>\n",
       "    <tr>\n",
       "      <td>105</td>\n",
       "      <td>Victor</td>\n",
       "      <td>Price</td>\n",
       "      <td>28</td>\n",
       "      <td>H</td>\n",
       "      <td>2</td>\n",
       "      <td>S</td>\n",
       "      <td>79.7</td>\n",
       "      <td>88.9</td>\n",
       "      <td>9.2</td>\n",
       "    </tr>\n",
       "    <tr>\n",
       "      <td>107</td>\n",
       "      <td>Kana</td>\n",
       "      <td>Summers</td>\n",
       "      <td>51</td>\n",
       "      <td>H</td>\n",
       "      <td>2</td>\n",
       "      <td>S</td>\n",
       "      <td>85.5</td>\n",
       "      <td>83.6</td>\n",
       "      <td>-1.9</td>\n",
       "    </tr>\n",
       "    <tr>\n",
       "      <td>110</td>\n",
       "      <td>Shun</td>\n",
       "      <td>Takahashi</td>\n",
       "      <td>38</td>\n",
       "      <td>H</td>\n",
       "      <td>2</td>\n",
       "      <td>S</td>\n",
       "      <td>69.2</td>\n",
       "      <td>65.8</td>\n",
       "      <td>-3.4</td>\n",
       "    </tr>\n",
       "  </tbody>\n",
       "</table>\n",
       "</div>"
      ],
      "text/plain": [
       "    first_name  last_name  age Happy_Sad_group  Dosage Drug  Mem_Score_Before  \\\n",
       "89   Christian   Carrasco   28               H       2    S              36.0   \n",
       "90     Ignacio   Carrasco   46               H       2    S              54.8   \n",
       "93        Sara     Castro   35               H       2    S              46.0   \n",
       "94    Benjamin   Connolly   27               H       2    S              67.0   \n",
       "98         Rin     Durand   40               H       2    S              30.7   \n",
       "99         Rok      Hajek   48               H       2    S              48.3   \n",
       "102    Bastian      Lopez   42               H       2    S              46.2   \n",
       "103      Kaito      Lopez   37               H       2    S              41.0   \n",
       "105     Victor      Price   28               H       2    S              79.7   \n",
       "107       Kana    Summers   51               H       2    S              85.5   \n",
       "110       Shun  Takahashi   38               H       2    S              69.2   \n",
       "\n",
       "     Mem_Score_After  Diff  \n",
       "89              35.8  -0.2  \n",
       "90              65.4  10.6  \n",
       "93              43.2  -2.8  \n",
       "94              70.9   3.9  \n",
       "98              27.1  -3.6  \n",
       "99              47.0  -1.3  \n",
       "102             41.3  -4.9  \n",
       "103             47.0   6.0  \n",
       "105             88.9   9.2  \n",
       "107             83.6  -1.9  \n",
       "110             65.8  -3.4  "
      ]
     },
     "execution_count": 5,
     "metadata": {},
     "output_type": "execute_result"
    }
   ],
   "source": [
    "happy_control = happy[happy['Drug'] == 'S']\n",
    "happy_control_dosage_2 = happy_control[happy_control['Dosage'] == 2]\n",
    "happy_control_dosage_2"
   ]
  },
  {
   "cell_type": "code",
   "execution_count": 6,
   "metadata": {},
   "outputs": [
    {
     "data": {
      "text/html": [
       "<div>\n",
       "<style scoped>\n",
       "    .dataframe tbody tr th:only-of-type {\n",
       "        vertical-align: middle;\n",
       "    }\n",
       "\n",
       "    .dataframe tbody tr th {\n",
       "        vertical-align: top;\n",
       "    }\n",
       "\n",
       "    .dataframe thead th {\n",
       "        text-align: right;\n",
       "    }\n",
       "</style>\n",
       "<table border=\"1\" class=\"dataframe\">\n",
       "  <thead>\n",
       "    <tr style=\"text-align: right;\">\n",
       "      <th></th>\n",
       "      <th>0</th>\n",
       "      <th>1</th>\n",
       "      <th>2</th>\n",
       "      <th>3</th>\n",
       "      <th>4</th>\n",
       "      <th>5</th>\n",
       "      <th>6</th>\n",
       "      <th>7</th>\n",
       "      <th>8</th>\n",
       "      <th>9</th>\n",
       "      <th>10</th>\n",
       "    </tr>\n",
       "  </thead>\n",
       "  <tbody>\n",
       "    <tr>\n",
       "      <td>0</td>\n",
       "      <td>-0.2</td>\n",
       "      <td>10.6</td>\n",
       "      <td>-2.8</td>\n",
       "      <td>3.9</td>\n",
       "      <td>-3.6</td>\n",
       "      <td>-1.3</td>\n",
       "      <td>-4.9</td>\n",
       "      <td>6.0</td>\n",
       "      <td>9.2</td>\n",
       "      <td>-1.9</td>\n",
       "      <td>-3.4</td>\n",
       "    </tr>\n",
       "    <tr>\n",
       "      <td>1</td>\n",
       "      <td>-0.4</td>\n",
       "      <td>8.5</td>\n",
       "      <td>2.9</td>\n",
       "      <td>-4.1</td>\n",
       "      <td>-2.6</td>\n",
       "      <td>-8.0</td>\n",
       "      <td>4.3</td>\n",
       "      <td>-0.6</td>\n",
       "      <td>15.0</td>\n",
       "      <td>4.3</td>\n",
       "      <td>4.0</td>\n",
       "    </tr>\n",
       "  </tbody>\n",
       "</table>\n",
       "</div>"
      ],
      "text/plain": [
       "     0     1    2    3    4    5    6    7     8    9   10\n",
       "0 -0.2  10.6 -2.8  3.9 -3.6 -1.3 -4.9  6.0   9.2 -1.9 -3.4\n",
       "1 -0.4   8.5  2.9 -4.1 -2.6 -8.0  4.3 -0.6  15.0  4.3  4.0"
      ]
     },
     "execution_count": 6,
     "metadata": {},
     "output_type": "execute_result"
    }
   ],
   "source": [
    "control, experimental = happy_control_dosage_2['Diff'], happy_drug_a_dosage_2['Diff']\n",
    "df = pd.DataFrame([control.tolist(), experimental.tolist()])\n",
    "#df.transpose().to_csv('data.csv', header=['control', 'experimental'], index=False)\n",
    "df"
   ]
  },
  {
   "cell_type": "code",
   "execution_count": 7,
   "metadata": {},
   "outputs": [
    {
     "data": {
      "text/plain": [
       "<Figure size 1200x600 with 1 Axes>"
      ]
     },
     "metadata": {},
     "output_type": "display_data"
    }
   ],
   "source": [
    "import matplotlib.pyplot as plt\n",
    "\n",
    "fig, ax = plt.subplots()\n",
    "\n",
    "\n",
    "x1, y1 = np.arange(1, 12) - 0.2, control\n",
    "x2, y2 = np.arange(1, 12) + 0.2, experimental\n",
    "\n",
    "ax.bar(x1, y1, width = 0.4)\n",
    "ax.bar(x2, y2, width = 0.4)\n",
    "ax.set_facecolor('seashell')\n",
    "\n",
    "fig.set_figwidth(12)    \n",
    "fig.set_figheight(6)\n",
    "fig.set_facecolor('floralwhite')\n",
    "\n",
    "plt.show()"
   ]
  },
  {
   "cell_type": "markdown",
   "metadata": {},
   "source": [
    "Гипотеза H0: θ = 0\n",
    "\n",
    "Гипотеза H1: θ > 0"
   ]
  },
  {
   "cell_type": "code",
   "execution_count": 8,
   "metadata": {},
   "outputs": [
    {
     "data": {
      "text/html": [
       "<div>\n",
       "<style scoped>\n",
       "    .dataframe tbody tr th:only-of-type {\n",
       "        vertical-align: middle;\n",
       "    }\n",
       "\n",
       "    .dataframe tbody tr th {\n",
       "        vertical-align: top;\n",
       "    }\n",
       "\n",
       "    .dataframe thead th {\n",
       "        text-align: right;\n",
       "    }\n",
       "</style>\n",
       "<table border=\"1\" class=\"dataframe\">\n",
       "  <thead>\n",
       "    <tr style=\"text-align: right;\">\n",
       "      <th></th>\n",
       "      <th>0</th>\n",
       "      <th>1</th>\n",
       "      <th>2</th>\n",
       "      <th>3</th>\n",
       "      <th>4</th>\n",
       "      <th>5</th>\n",
       "      <th>6</th>\n",
       "      <th>7</th>\n",
       "      <th>8</th>\n",
       "      <th>9</th>\n",
       "      <th>...</th>\n",
       "      <th>12</th>\n",
       "      <th>13</th>\n",
       "      <th>14</th>\n",
       "      <th>15</th>\n",
       "      <th>16</th>\n",
       "      <th>17</th>\n",
       "      <th>18</th>\n",
       "      <th>19</th>\n",
       "      <th>20</th>\n",
       "      <th>21</th>\n",
       "    </tr>\n",
       "  </thead>\n",
       "  <tbody>\n",
       "    <tr>\n",
       "      <td>0</td>\n",
       "      <td>1</td>\n",
       "      <td>2</td>\n",
       "      <td>3</td>\n",
       "      <td>4</td>\n",
       "      <td>5</td>\n",
       "      <td>6</td>\n",
       "      <td>7</td>\n",
       "      <td>8</td>\n",
       "      <td>9</td>\n",
       "      <td>10</td>\n",
       "      <td>...</td>\n",
       "      <td>13</td>\n",
       "      <td>14</td>\n",
       "      <td>15</td>\n",
       "      <td>16</td>\n",
       "      <td>17</td>\n",
       "      <td>18</td>\n",
       "      <td>19</td>\n",
       "      <td>20</td>\n",
       "      <td>21</td>\n",
       "      <td>22</td>\n",
       "    </tr>\n",
       "    <tr>\n",
       "      <td>1</td>\n",
       "      <td>-0.2</td>\n",
       "      <td>-0.4</td>\n",
       "      <td>-0.6</td>\n",
       "      <td>-1.3</td>\n",
       "      <td>-1.9</td>\n",
       "      <td>-2.6</td>\n",
       "      <td>-2.8</td>\n",
       "      <td>2.9</td>\n",
       "      <td>-3.4</td>\n",
       "      <td>-3.6</td>\n",
       "      <td>...</td>\n",
       "      <td>-4.1</td>\n",
       "      <td>4.3</td>\n",
       "      <td>4.3</td>\n",
       "      <td>-4.9</td>\n",
       "      <td>6</td>\n",
       "      <td>-8</td>\n",
       "      <td>8.5</td>\n",
       "      <td>9.2</td>\n",
       "      <td>10.6</td>\n",
       "      <td>15</td>\n",
       "    </tr>\n",
       "    <tr>\n",
       "      <td>2</td>\n",
       "      <td>c</td>\n",
       "      <td>e</td>\n",
       "      <td>e</td>\n",
       "      <td>c</td>\n",
       "      <td>c</td>\n",
       "      <td>e</td>\n",
       "      <td>c</td>\n",
       "      <td>e</td>\n",
       "      <td>c</td>\n",
       "      <td>c</td>\n",
       "      <td>...</td>\n",
       "      <td>e</td>\n",
       "      <td>e</td>\n",
       "      <td>e</td>\n",
       "      <td>c</td>\n",
       "      <td>c</td>\n",
       "      <td>e</td>\n",
       "      <td>e</td>\n",
       "      <td>c</td>\n",
       "      <td>c</td>\n",
       "      <td>e</td>\n",
       "    </tr>\n",
       "  </tbody>\n",
       "</table>\n",
       "<p>3 rows × 22 columns</p>\n",
       "</div>"
      ],
      "text/plain": [
       "    0    1    2    3    4    5    6    7    8    9   ...   12   13   14   15  \\\n",
       "0    1    2    3    4    5    6    7    8    9   10  ...   13   14   15   16   \n",
       "1 -0.2 -0.4 -0.6 -1.3 -1.9 -2.6 -2.8  2.9 -3.4 -3.6  ... -4.1  4.3  4.3 -4.9   \n",
       "2    c    e    e    c    c    e    c    e    c    c  ...    e    e    e    c   \n",
       "\n",
       "   16  17   18   19    20  21  \n",
       "0  17  18   19   20    21  22  \n",
       "1   6  -8  8.5  9.2  10.6  15  \n",
       "2   c   e    e    c     c   e  \n",
       "\n",
       "[3 rows x 22 columns]"
      ]
     },
     "execution_count": 8,
     "metadata": {},
     "output_type": "execute_result"
    }
   ],
   "source": [
    "ranges = list(zip(control, ['c'] * 11)) + list(zip(experimental, ['e'] * 11))\n",
    "ranges = list(zip(enumerate(sorted(ranges, key = lambda x: abs(x[0])))))\n",
    "ranges_df = pd.DataFrame([\n",
    "    list(range(1,23)),\n",
    "    [x[0][1][0] for x in ranges],\n",
    "    [x[0][1][1] for x in ranges],\n",
    "])\n",
    "ranges_df"
   ]
  },
  {
   "cell_type": "code",
   "execution_count": 9,
   "metadata": {},
   "outputs": [
    {
     "data": {
      "text/plain": [
       "([2, 3, 6, 13, 18], 42)"
      ]
     },
     "execution_count": 9,
     "metadata": {},
     "output_type": "execute_result"
    }
   ],
   "source": [
    "exp_ranges_neg = [x[0][0] + 1 for x in ranges if x[0][1][1] == 'e' and x[0][1][0] < 0]\n",
    "exp_ranges_neg, sum(exp_ranges_neg)"
   ]
  },
  {
   "cell_type": "code",
   "execution_count": 10,
   "metadata": {},
   "outputs": [
    {
     "data": {
      "text/plain": [
       "([8, 12, 14, 15, 19, 22], 90)"
      ]
     },
     "execution_count": 10,
     "metadata": {},
     "output_type": "execute_result"
    }
   ],
   "source": [
    "exp_ranges_pos = [x[0][0] + 1 for x in ranges if x[0][1][1] == 'e' and x[0][1][0] > 0]\n",
    "exp_ranges_pos, sum(exp_ranges_pos)"
   ]
  },
  {
   "cell_type": "markdown",
   "metadata": {},
   "source": [
    "Про ранжирование при отрицательных значениях я смотрела тут:\n",
    "- http://statistica.ru/local-portals/medicine/w-kriteriy-uilkoksona/\n",
    "- https://medstatistic.ru/methods/methods3.html\n",
    "\n",
    "Но там данные для попарных разностей для сравнения двух связных выборок, поэтому я не стала  анализировать отдельно отрицательные и положительные показатели, только их сумму"
   ]
  },
  {
   "cell_type": "code",
   "execution_count": 11,
   "metadata": {},
   "outputs": [
    {
     "data": {
      "text/plain": [
       "153.0"
      ]
     },
     "execution_count": 11,
     "metadata": {},
     "output_type": "execute_result"
    }
   ],
   "source": [
    "#По таблице находим квантили\n",
    "\n",
    "wilcoxon_11_11_05 = 100.0\n",
    "wilcoxon_11_11_95 = 2 * 11* (11 + 11 + 1)/2 - 100\n",
    "wilcoxon_11_11_95"
   ]
  },
  {
   "cell_type": "markdown",
   "metadata": {},
   "source": [
    "- Доверительная область: 􏰛(-∞, 153)\n",
    "- Критическая область: (153; +∞)\n",
    "- Значение статистики для суммы рангов отрицательных и положительных значений (42 + 90) = 132 находится в доверительной области - принимаем гипотезу Н0 на уровне значимости 0.05"
   ]
  },
  {
   "cell_type": "markdown",
   "metadata": {},
   "source": [
    "Т.к. n + m > 20, то можно аппроксимировать распределение статистики W гауссовским \n",
    "распределением.\n",
    "\n",
    "Вычислим E и D"
   ]
  },
  {
   "cell_type": "code",
   "execution_count": 12,
   "metadata": {},
   "outputs": [
    {
     "data": {
      "text/plain": [
       "(126.5, 231.91666666666666, 0.36115755925730764)"
      ]
     },
     "execution_count": 12,
     "metadata": {},
     "output_type": "execute_result"
    }
   ],
   "source": [
    "E = 11 * (11 + 11 + 1) / 2\n",
    "D = 11 * 11 * (11 + 11 + 1) / 12\n",
    "\n",
    "W = (42 + 90 - E) / math.sqrt(D) # для общей суммы рангов\n",
    "\n",
    "E, D, W"
   ]
  },
  {
   "cell_type": "markdown",
   "metadata": {},
   "source": [
    "- Z1−α = Z0,95 = 1,65\n",
    "- Доверительная область: (-∞; 1.65), критическая область: (1.65; + ∞)\n",
    "- Значение статистики 0.36 входит в доверительную область, следовательно, принимаем гипотезу Н0 на уровне значимости α = 0.05."
   ]
  },
  {
   "cell_type": "markdown",
   "metadata": {},
   "source": [
    "Попробуем применить **критерий Фишера**\n",
    "\n",
    "- Гипотеза Н0: SX2/ SY2 = 1\n",
    "- Гипотеза Н1: SY2 / SX2 != 1"
   ]
  },
  {
   "cell_type": "code",
   "execution_count": 13,
   "metadata": {},
   "outputs": [
    {
     "data": {
      "text/plain": [
       "(1.0545454545454545, 29.76872727272727)"
      ]
     },
     "execution_count": 13,
     "metadata": {},
     "output_type": "execute_result"
    }
   ],
   "source": [
    "X = np.mean(control)\n",
    "SX2 = 0.1 * sum([(x - X)**2 for x in control])\n",
    "X, SX2"
   ]
  },
  {
   "cell_type": "code",
   "execution_count": 14,
   "metadata": {},
   "outputs": [
    {
     "data": {
      "text/plain": [
       "(2.118181818181818, 39.73763636363637)"
      ]
     },
     "execution_count": 14,
     "metadata": {},
     "output_type": "execute_result"
    }
   ],
   "source": [
    "Y = np.mean(experimental)\n",
    "SY2 = 0.1 * sum([(y - Y)**2 for y in experimental])\n",
    "Y, SY2"
   ]
  },
  {
   "cell_type": "markdown",
   "metadata": {},
   "source": [
    "Статистика Фишера будет иметь вид"
   ]
  },
  {
   "cell_type": "code",
   "execution_count": 15,
   "metadata": {},
   "outputs": [
    {
     "data": {
      "text/plain": [
       "1.3348785791068116"
      ]
     },
     "execution_count": 15,
     "metadata": {},
     "output_type": "execute_result"
    }
   ],
   "source": [
    "F = SY2 / SX2\n",
    "F"
   ]
  },
  {
   "cell_type": "markdown",
   "metadata": {},
   "source": [
    "- Т.к. SY2 > SX2, то статистика имеет распределение Фишера F (n − 1; m − 1), а критическая область критерия имеет вид: (f1−α/2(n−1;m−1);+∞), т.е. f0.975(10,10) = **3.72**. Таким образом, критическая область имеет вид (3.72;+∞)\n",
    "- Статистика находится в доверительной области, следовательно, принимаем гипотезу Н0 на уровне значимости 0.05: дисперсии можем считать одинаковыми\n",
    "\n",
    "\n",
    "- Теперь предположения, требуемые для применения критерия Стьюдента со статистикой выполнены. Вычислим реализацию статистики **критерия Стьюдента**\n",
    "- Статистика Стьюдента при справедливости H0 имеет распределение Стьюдента t(m+n−2)=t(20).\n",
    "\n",
    "\n",
    "- Гипотеза H0: θ = mY − mX = 0\n",
    "- Гипотеза H1: θ > 0\n",
    "\n",
    "\n",
    "- По таблице находим 0,95 квантиль распределения Стьюдента t0,95;20 = 2.09.\n",
    "- Критические области для Т: (2.09; + ∞)\n",
    "- Доверительная область для Т: (-∞; 2.09)"
   ]
  },
  {
   "cell_type": "code",
   "execution_count": 16,
   "metadata": {},
   "outputs": [
    {
     "data": {
      "text/plain": [
       "(1.0545454545454545, 2.118181818181818)"
      ]
     },
     "execution_count": 16,
     "metadata": {},
     "output_type": "execute_result"
    }
   ],
   "source": [
    "X, Y"
   ]
  },
  {
   "cell_type": "markdown",
   "metadata": {},
   "source": [
    "Вычислим выборочную дисперсию объединенной выборки"
   ]
  },
  {
   "cell_type": "code",
   "execution_count": 17,
   "metadata": {},
   "outputs": [
    {
     "data": {
      "text/plain": [
       "(34.753181818181815, 5.895182933394164)"
      ]
     },
     "execution_count": 17,
     "metadata": {},
     "output_type": "execute_result"
    }
   ],
   "source": [
    "S2 = 1/20 * (\n",
    "    sum([(x - X)**2 for x in control]) + \\\n",
    "    sum([(y - Y)**2 for y in experimental])\n",
    ")\n",
    "\n",
    "S = math.sqrt(S2)\n",
    "S2, S"
   ]
  },
  {
   "cell_type": "markdown",
   "metadata": {},
   "source": [
    "Реализация статистики будет иметь вид"
   ]
  },
  {
   "cell_type": "code",
   "execution_count": 18,
   "metadata": {},
   "outputs": [
    {
     "data": {
      "text/plain": [
       "0.42313332928660424"
      ]
     },
     "execution_count": 18,
     "metadata": {},
     "output_type": "execute_result"
    }
   ],
   "source": [
    "T = (Y - X)/(S * math.sqrt(1/11 + 1/11))\n",
    "T"
   ]
  },
  {
   "cell_type": "markdown",
   "metadata": {},
   "source": [
    "- Значение статистики 0.42 входит в доверительную область (-∞; 2.09), следовательно, принимаем гипотезу Н0 на уровне значимости 0.05"
   ]
  },
  {
   "cell_type": "code",
   "execution_count": 19,
   "metadata": {},
   "outputs": [
    {
     "data": {
      "text/plain": [
       "Ttest_indResult(statistic=0.42313332928660424, pvalue=0.6767131506956277)"
      ]
     },
     "execution_count": 19,
     "metadata": {},
     "output_type": "execute_result"
    }
   ],
   "source": [
    "# Проверим расчет полученной статистики\n",
    "\n",
    "from scipy import stats\n",
    "stats.ttest_ind(experimental,control)"
   ]
  },
  {
   "cell_type": "markdown",
   "metadata": {},
   "source": [
    "Попробуем применить **критерий Ансари–Брэдли**\n",
    "\n",
    "- Пусть показатели изменения скорости выполнения задания в контрольной группеявляются выборкой Xm = \\[X1,...,Xm\\]T объема m = 11, порожденной непрерывной случайной величиной X, а показатели изменения скорости выполнения задания в экспериментальной группе - выборкой Yn = \\[Y1,...,Yn\\]T объема n = 11, порожденной непрерывной случайной величиной Y\n",
    "- Тогда гипотеза H0 : ∆ = 1 будет означать, что выборки Xm и Yn однородны, и применение препарата не повлияло на скорость выполнения задания. В качестве альтернативной гипотезы в этой задаче выберем HA : ∆ > 1, так как справедливость этой альтернативы означает, что скорость выполнения задания изменилась больше в экспериментальной группе по сравнению с контрольной группой."
   ]
  },
  {
   "cell_type": "code",
   "execution_count": 20,
   "metadata": {},
   "outputs": [
    {
     "data": {
      "text/plain": [
       "[1, 4, 5, 7, 9, 10, 11, 16, 17, 20, 21]"
      ]
     },
     "execution_count": 20,
     "metadata": {},
     "output_type": "execute_result"
    }
   ],
   "source": [
    "control_ranges = [x[0][0] + 1 for x in ranges if x[0][1][1] == 'c' ]\n",
    "control_ranges"
   ]
  },
  {
   "cell_type": "code",
   "execution_count": 21,
   "metadata": {},
   "outputs": [
    {
     "data": {
      "text/plain": [
       "65.0"
      ]
     },
     "execution_count": 21,
     "metadata": {},
     "output_type": "execute_result"
    }
   ],
   "source": [
    "A = sum([\n",
    "    23/2 - abs(x - 23/2) for x in control_ranges\n",
    "])\n",
    "A"
   ]
  },
  {
   "cell_type": "code",
   "execution_count": 22,
   "metadata": {},
   "outputs": [
    {
     "data": {
      "text/plain": [
       "(66.0, 57.61904761904762)"
      ]
     },
     "execution_count": 22,
     "metadata": {},
     "output_type": "execute_result"
    }
   ],
   "source": [
    "E = (11 * (22 + 2)) / 4\n",
    "D = 11 * 11 * 24 * 20 / (48 * 21)\n",
    "E, D"
   ]
  },
  {
   "cell_type": "code",
   "execution_count": 23,
   "metadata": {},
   "outputs": [
    {
     "data": {
      "text/plain": [
       "-0.13173978860172217"
      ]
     },
     "execution_count": 23,
     "metadata": {},
     "output_type": "execute_result"
    }
   ],
   "source": [
    "A_approx = (A - E) / math.sqrt(D)\n",
    "A_approx"
   ]
  },
  {
   "cell_type": "markdown",
   "metadata": {},
   "source": [
    "Критическая область (u_1-α; +∞) для уровня значимости α = 0,05 имеет вид (1,65; +∞). Значение статистики входит в доверительную область, следовательно, принимаем гипотезу Н0 на уровне значимости 0.05"
   ]
  },
  {
   "cell_type": "markdown",
   "metadata": {},
   "source": [
    "- Проверим гипотезу об однородности выборок Xm и Yn при помощи **критерия Колмогорова–Смирнова**. \n",
    "- Так как у нас нет априорной информации о типе неоднородности, следует проверить гипотезу H0 вида H0:FX(t)=FY(t), ∀t∈R1 против альтернативной гипотезы HA общего вида H1:∃t∈R1, такое что FX(t)̸=FY(t). "
   ]
  },
  {
   "cell_type": "code",
   "execution_count": 24,
   "metadata": {
    "scrolled": true
   },
   "outputs": [
    {
     "data": {
      "text/plain": [
       "Ks_2sampResult(statistic=0.2727272727272727, pvalue=0.832587690946824)"
      ]
     },
     "execution_count": 24,
     "metadata": {},
     "output_type": "execute_result"
    }
   ],
   "source": [
    "from scipy.stats import ks_2samp\n",
    "ks_2samp(control, experimental)"
   ]
  },
  {
   "cell_type": "markdown",
   "metadata": {},
   "source": [
    "- Согласно таблицам, K0,95 = 1,36. Критическая область имеет вид (1.36; +∞) \n",
    "- Таким образом, значение статистики попадает в доверительную область, следовательно, принимаем гипотезу Н0 об однородности выборок на уровне значимости 0.05"
   ]
  },
  {
   "cell_type": "code",
   "execution_count": null,
   "metadata": {},
   "outputs": [],
   "source": []
  }
 ],
 "metadata": {
  "kernelspec": {
   "display_name": "Python 3",
   "language": "python",
   "name": "python3"
  },
  "language_info": {
   "codemirror_mode": {
    "name": "ipython",
    "version": 3
   },
   "file_extension": ".py",
   "mimetype": "text/x-python",
   "name": "python",
   "nbconvert_exporter": "python",
   "pygments_lexer": "ipython3",
   "version": "3.7.4"
  }
 },
 "nbformat": 4,
 "nbformat_minor": 2
}
